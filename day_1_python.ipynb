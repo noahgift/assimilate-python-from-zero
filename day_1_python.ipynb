{
  "nbformat": 4,
  "nbformat_minor": 0,
  "metadata": {
    "colab": {
      "name": "day-1-python.ipynb",
      "provenance": [],
      "collapsed_sections": [
        "CjBsBbOhbCFp"
      ],
      "authorship_tag": "ABX9TyMxcZdKnBKFFp6TaDtxicyQ",
      "include_colab_link": true
    },
    "kernelspec": {
      "name": "python3",
      "display_name": "Python 3"
    },
    "language_info": {
      "name": "python"
    }
  },
  "cells": [
    {
      "cell_type": "markdown",
      "metadata": {
        "id": "view-in-github",
        "colab_type": "text"
      },
      "source": [
        "<a href=\"https://colab.research.google.com/github/noahgift/assimilate-python-from-zero/blob/main/day_1_python.ipynb\" target=\"_parent\"><img src=\"https://colab.research.google.com/assets/colab-badge.svg\" alt=\"Open In Colab\"/></a>"
      ]
    },
    {
      "cell_type": "markdown",
      "source": [
        "## Day 1 - Learning Python"
      ],
      "metadata": {
        "id": "GonryQHMa88W"
      }
    },
    {
      "cell_type": "markdown",
      "source": [
        "### Hello World"
      ],
      "metadata": {
        "id": "CjBsBbOhbCFp"
      }
    },
    {
      "cell_type": "code",
      "execution_count": 1,
      "metadata": {
        "colab": {
          "base_uri": "https://localhost:8080/"
        },
        "id": "1k-WRY3eZMyT",
        "outputId": "594073fe-876c-4e47-cf11-0faf6f7d62e3"
      },
      "outputs": [
        {
          "output_type": "stream",
          "name": "stdout",
          "text": [
            "hello world\n"
          ]
        }
      ],
      "source": [
        "print(\"hello world\")"
      ]
    },
    {
      "cell_type": "code",
      "source": [
        "x = 1"
      ],
      "metadata": {
        "id": "VJ4DurenZZ7w"
      },
      "execution_count": 2,
      "outputs": []
    },
    {
      "cell_type": "code",
      "source": [
        "print(x)"
      ],
      "metadata": {
        "colab": {
          "base_uri": "https://localhost:8080/"
        },
        "id": "tRN3Swe3Za2c",
        "outputId": "018ba338-5596-44e9-ffed-0e5e10f8a79a"
      },
      "execution_count": 3,
      "outputs": [
        {
          "output_type": "stream",
          "name": "stdout",
          "text": [
            "1\n"
          ]
        }
      ]
    },
    {
      "cell_type": "markdown",
      "source": [
        "### Calculator"
      ],
      "metadata": {
        "id": "auY_Io61bGA3"
      }
    },
    {
      "cell_type": "markdown",
      "source": [
        "Add"
      ],
      "metadata": {
        "id": "WorMeiNRbMVc"
      }
    },
    {
      "cell_type": "code",
      "source": [
        "2 + 2"
      ],
      "metadata": {
        "colab": {
          "base_uri": "https://localhost:8080/"
        },
        "id": "zOsCAuQtbH4j",
        "outputId": "6d523898-eb68-4d1c-f25f-183bd2853e08"
      },
      "execution_count": 4,
      "outputs": [
        {
          "output_type": "execute_result",
          "data": {
            "text/plain": [
              "4"
            ]
          },
          "metadata": {},
          "execution_count": 4
        }
      ]
    },
    {
      "cell_type": "markdown",
      "source": [
        "Multiply"
      ],
      "metadata": {
        "id": "vFRJxVdHbQhu"
      }
    },
    {
      "cell_type": "code",
      "source": [
        "2 * 2"
      ],
      "metadata": {
        "colab": {
          "base_uri": "https://localhost:8080/"
        },
        "id": "UZOArIkvbOcR",
        "outputId": "80b7f1c7-3d6c-4c67-9321-4ab7527a8f85"
      },
      "execution_count": 5,
      "outputs": [
        {
          "output_type": "execute_result",
          "data": {
            "text/plain": [
              "4"
            ]
          },
          "metadata": {},
          "execution_count": 5
        }
      ]
    },
    {
      "cell_type": "markdown",
      "source": [
        "Exponent"
      ],
      "metadata": {
        "id": "CLB0bjWmbV0J"
      }
    },
    {
      "cell_type": "code",
      "source": [
        "2**2"
      ],
      "metadata": {
        "colab": {
          "base_uri": "https://localhost:8080/"
        },
        "id": "2uAKRnQAbUvI",
        "outputId": "fe48ce22-168d-430a-f87c-08f2dbea95df"
      },
      "execution_count": 6,
      "outputs": [
        {
          "output_type": "execute_result",
          "data": {
            "text/plain": [
              "4"
            ]
          },
          "metadata": {},
          "execution_count": 6
        }
      ]
    },
    {
      "cell_type": "markdown",
      "source": [
        "Subtract"
      ],
      "metadata": {
        "id": "5ES-TBaYbf9K"
      }
    },
    {
      "cell_type": "code",
      "source": [
        "2-2"
      ],
      "metadata": {
        "colab": {
          "base_uri": "https://localhost:8080/"
        },
        "id": "aHnZ43kHbduA",
        "outputId": "a98b73dc-7aa2-4c51-8620-ceefa345f96a"
      },
      "execution_count": 7,
      "outputs": [
        {
          "output_type": "execute_result",
          "data": {
            "text/plain": [
              "0"
            ]
          },
          "metadata": {},
          "execution_count": 7
        }
      ]
    },
    {
      "cell_type": "code",
      "source": [
        ""
      ],
      "metadata": {
        "id": "1RgRoIwIbjCR"
      },
      "execution_count": null,
      "outputs": []
    },
    {
      "cell_type": "markdown",
      "source": [
        "### Strings"
      ],
      "metadata": {
        "id": "Hn3H_1Z3bqe6"
      }
    },
    {
      "cell_type": "code",
      "source": [
        "\"hello\""
      ],
      "metadata": {
        "colab": {
          "base_uri": "https://localhost:8080/",
          "height": 35
        },
        "id": "n09aNWlMbsEf",
        "outputId": "518e7a45-c6c6-46e5-be5b-7ec49b2d0e81"
      },
      "execution_count": 8,
      "outputs": [
        {
          "output_type": "execute_result",
          "data": {
            "text/plain": [
              "'hello'"
            ],
            "application/vnd.google.colaboratory.intrinsic+json": {
              "type": "string"
            }
          },
          "metadata": {},
          "execution_count": 8
        }
      ]
    },
    {
      "cell_type": "code",
      "source": [
        "my_hello = \"hello\""
      ],
      "metadata": {
        "id": "g9oVp_AubusX"
      },
      "execution_count": 9,
      "outputs": []
    },
    {
      "cell_type": "code",
      "source": [
        "print(my_hello)"
      ],
      "metadata": {
        "colab": {
          "base_uri": "https://localhost:8080/"
        },
        "id": "TbFVrlR1bxiB",
        "outputId": "b6ef0e4e-f04e-4e82-8ac3-0e463691bf08"
      },
      "execution_count": 10,
      "outputs": [
        {
          "output_type": "stream",
          "name": "stdout",
          "text": [
            "hello\n"
          ]
        }
      ]
    },
    {
      "cell_type": "code",
      "source": [
        "type(my_hello)"
      ],
      "metadata": {
        "colab": {
          "base_uri": "https://localhost:8080/"
        },
        "id": "bSVKEeucbzI4",
        "outputId": "752d8369-3d60-4acd-8149-f6d60a0e5f2e"
      },
      "execution_count": 12,
      "outputs": [
        {
          "output_type": "execute_result",
          "data": {
            "text/plain": [
              "str"
            ]
          },
          "metadata": {},
          "execution_count": 12
        }
      ]
    },
    {
      "cell_type": "code",
      "source": [
        "today = \"Tuesday\"\n",
        "month = \"August\"\n",
        "year = 2022"
      ],
      "metadata": {
        "id": "UvLrCc1Vb1lv"
      },
      "execution_count": 13,
      "outputs": []
    },
    {
      "cell_type": "code",
      "source": [
        "print(f\"Today is: {today},{month},{year}\")"
      ],
      "metadata": {
        "colab": {
          "base_uri": "https://localhost:8080/"
        },
        "id": "x7ECfTgxcGCv",
        "outputId": "117361bd-4859-457d-8b13-67ecf51d1ccc"
      },
      "execution_count": 14,
      "outputs": [
        {
          "output_type": "stream",
          "name": "stdout",
          "text": [
            "Today is: Tuesday,August,2022\n"
          ]
        }
      ]
    },
    {
      "cell_type": "code",
      "source": [
        ""
      ],
      "metadata": {
        "id": "SGQfQGqFcWiL"
      },
      "execution_count": null,
      "outputs": []
    }
  ]
}