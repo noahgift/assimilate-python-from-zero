{
  "nbformat": 4,
  "nbformat_minor": 0,
  "metadata": {
    "colab": {
      "name": "control-flow.ipynb",
      "provenance": [],
      "machine_shape": "hm",
      "authorship_tag": "ABX9TyNfK22xK6X0jI9sFX0U4Ms6",
      "include_colab_link": true
    },
    "kernelspec": {
      "name": "python3",
      "display_name": "Python 3"
    },
    "language_info": {
      "name": "python"
    },
    "gpuClass": "standard"
  },
  "cells": [
    {
      "cell_type": "markdown",
      "metadata": {
        "id": "view-in-github",
        "colab_type": "text"
      },
      "source": [
        "<a href=\"https://colab.research.google.com/github/noahgift/assimilate-python-from-zero/blob/main/control_flow.ipynb\" target=\"_parent\"><img src=\"https://colab.research.google.com/assets/colab-badge.svg\" alt=\"Open In Colab\"/></a>"
      ]
    },
    {
      "cell_type": "markdown",
      "source": [
        "## Control Flow"
      ],
      "metadata": {
        "id": "f5warQLSnv8K"
      }
    },
    {
      "cell_type": "markdown",
      "source": [
        "* if\n",
        "* for\n",
        "* range\n",
        "* break\n",
        "* pass\n",
        "* match"
      ],
      "metadata": {
        "id": "adyoOX7bn1VV"
      }
    },
    {
      "cell_type": "markdown",
      "source": [
        "### If"
      ],
      "metadata": {
        "id": "4fb0sGibn7oG"
      }
    },
    {
      "cell_type": "code",
      "execution_count": 1,
      "metadata": {
        "id": "nBFlyPtfnqRu"
      },
      "outputs": [],
      "source": [
        "statement = True"
      ]
    },
    {
      "cell_type": "code",
      "source": [
        "if statement:\n",
        "    print(\"This was True\")"
      ],
      "metadata": {
        "colab": {
          "base_uri": "https://localhost:8080/"
        },
        "id": "rtqI08-soDgV",
        "outputId": "06241af5-ef8a-4340-a3d7-51c77ee33b7d"
      },
      "execution_count": 2,
      "outputs": [
        {
          "output_type": "stream",
          "name": "stdout",
          "text": [
            "This was True\n"
          ]
        }
      ]
    },
    {
      "cell_type": "code",
      "source": [
        "conspiracy = False"
      ],
      "metadata": {
        "id": "MjSsLJC7oJGh"
      },
      "execution_count": 3,
      "outputs": []
    },
    {
      "cell_type": "code",
      "source": [
        "if conspiracy:\n",
        "    print(\"This is something that I heard\")"
      ],
      "metadata": {
        "id": "8vKYjCiboSMz"
      },
      "execution_count": 4,
      "outputs": []
    },
    {
      "cell_type": "code",
      "source": [
        "container = \"\""
      ],
      "metadata": {
        "id": "ow5vOrHLoXXx"
      },
      "execution_count": 5,
      "outputs": []
    },
    {
      "cell_type": "code",
      "source": [
        "if container:\n",
        "    print(\"This was full\")"
      ],
      "metadata": {
        "id": "ofa3L2Ryofkr"
      },
      "execution_count": 6,
      "outputs": []
    },
    {
      "cell_type": "code",
      "source": [
        "full_container = \"This has many things in it\""
      ],
      "metadata": {
        "id": "fDt3UU6joh1k"
      },
      "execution_count": 7,
      "outputs": []
    },
    {
      "cell_type": "code",
      "source": [
        "if full_container:\n",
        "    print(\"This had things in it\")"
      ],
      "metadata": {
        "colab": {
          "base_uri": "https://localhost:8080/"
        },
        "id": "3K74lmSjol8k",
        "outputId": "ca8697af-d1b2-49af-d625-2b22f516a533"
      },
      "execution_count": 8,
      "outputs": [
        {
          "output_type": "stream",
          "name": "stdout",
          "text": [
            "This had things in it\n"
          ]
        }
      ]
    },
    {
      "cell_type": "markdown",
      "source": [
        "#### if/else"
      ],
      "metadata": {
        "id": "RfPruIWuo0HX"
      }
    },
    {
      "cell_type": "code",
      "source": [
        "fruit1 = \"strawberry\"\n",
        "fruit2 = \"pear\"\n",
        "if fruit1 == \"apple\":\n",
        "    print(\"I love apples!\")\n",
        "else:\n",
        "    print(f\"This fruit is good too: {fruit1}\")"
      ],
      "metadata": {
        "colab": {
          "base_uri": "https://localhost:8080/"
        },
        "id": "fH4OFUsropAb",
        "outputId": "d691f981-b14a-4a8f-9610-7f2ad377f097"
      },
      "execution_count": 10,
      "outputs": [
        {
          "output_type": "stream",
          "name": "stdout",
          "text": [
            "This fruit is good too: strawberry\n"
          ]
        }
      ]
    },
    {
      "cell_type": "code",
      "source": [
        ""
      ],
      "metadata": {
        "id": "C92IiDS3pC-g"
      },
      "execution_count": null,
      "outputs": []
    },
    {
      "cell_type": "markdown",
      "source": [
        "### For loops"
      ],
      "metadata": {
        "id": "nBPXOr40pRMy"
      }
    },
    {
      "cell_type": "code",
      "source": [
        "fruits = [\"apple\", \"pear\", \"banana\", \"strawberry\"]\n",
        "for fruit in fruits:\n",
        "    print(fruit)"
      ],
      "metadata": {
        "colab": {
          "base_uri": "https://localhost:8080/"
        },
        "id": "nGWb536ZpSyt",
        "outputId": "23208965-a7b4-47f6-fbd3-6a49708878c6"
      },
      "execution_count": 11,
      "outputs": [
        {
          "output_type": "stream",
          "name": "stdout",
          "text": [
            "apple\n",
            "pear\n",
            "banana\n",
            "strawberry\n"
          ]
        }
      ]
    },
    {
      "cell_type": "code",
      "source": [
        "count = 0\n",
        "for _ in fruits:\n",
        "    count +=1\n",
        "print(f\"There are a total of: {count} fruits\")"
      ],
      "metadata": {
        "colab": {
          "base_uri": "https://localhost:8080/"
        },
        "id": "IoY4DbOHpct6",
        "outputId": "8b49b925-062d-42b4-a53d-4831022d182e"
      },
      "execution_count": 13,
      "outputs": [
        {
          "output_type": "stream",
          "name": "stdout",
          "text": [
            "There are a total of: 4 fruits\n"
          ]
        }
      ]
    },
    {
      "cell_type": "code",
      "source": [
        "meals = {\n",
        "    \"dinner\": \"tofu\",\n",
        "    \"lunch\" : \"salad\",\n",
        "    \"breakfast\": \"black coffee\"\n",
        "}"
      ],
      "metadata": {
        "id": "J-9g4LOFpyDk"
      },
      "execution_count": 14,
      "outputs": []
    },
    {
      "cell_type": "code",
      "source": [
        "for meal_hour, food in meals.items():\n",
        "    print(f\"For this meal {meal_hour} I eat this type of food: {food}\")"
      ],
      "metadata": {
        "colab": {
          "base_uri": "https://localhost:8080/"
        },
        "id": "2Is0a-JSqFS6",
        "outputId": "988fe5ae-a87a-4f1b-ce14-36b7bcee0398"
      },
      "execution_count": 15,
      "outputs": [
        {
          "output_type": "stream",
          "name": "stdout",
          "text": [
            "For this meal dinner I eat this type of food: tofu\n",
            "For this meal lunch I eat this type of food: salad\n",
            "For this meal breakfast I eat this type of food: black coffee\n"
          ]
        }
      ]
    },
    {
      "cell_type": "code",
      "source": [
        ""
      ],
      "metadata": {
        "id": "JArSwbegqVZj"
      },
      "execution_count": null,
      "outputs": []
    },
    {
      "cell_type": "markdown",
      "source": [
        "### Range"
      ],
      "metadata": {
        "id": "3_JX4GWiqbcU"
      }
    },
    {
      "cell_type": "code",
      "source": [
        "range(0,10)"
      ],
      "metadata": {
        "colab": {
          "base_uri": "https://localhost:8080/"
        },
        "id": "ufA5annEqcRC",
        "outputId": "dbae6f2f-25aa-4f9e-9e81-84bca2a4fb50"
      },
      "execution_count": 16,
      "outputs": [
        {
          "output_type": "execute_result",
          "data": {
            "text/plain": [
              "range(0, 100)"
            ]
          },
          "metadata": {},
          "execution_count": 16
        }
      ]
    },
    {
      "cell_type": "code",
      "source": [
        "for item in range(0,10):\n",
        "    print(item)"
      ],
      "metadata": {
        "colab": {
          "base_uri": "https://localhost:8080/"
        },
        "id": "0OHzY9dTqeML",
        "outputId": "6c84f812-03f9-48a2-f855-d2c45a3ec26a"
      },
      "execution_count": 18,
      "outputs": [
        {
          "output_type": "stream",
          "name": "stdout",
          "text": [
            "0\n",
            "1\n",
            "2\n",
            "3\n",
            "4\n",
            "5\n",
            "6\n",
            "7\n",
            "8\n",
            "9\n"
          ]
        }
      ]
    },
    {
      "cell_type": "code",
      "source": [
        "type(range(1,10))"
      ],
      "metadata": {
        "colab": {
          "base_uri": "https://localhost:8080/"
        },
        "id": "OxeHzYLpqjoK",
        "outputId": "7cae4d54-f3f1-4a26-bd1a-030e2c9df51f"
      },
      "execution_count": 19,
      "outputs": [
        {
          "output_type": "execute_result",
          "data": {
            "text/plain": [
              "range"
            ]
          },
          "metadata": {},
          "execution_count": 19
        }
      ]
    },
    {
      "cell_type": "code",
      "source": [
        "range?"
      ],
      "metadata": {
        "id": "xt8ZHUxpqq7C"
      },
      "execution_count": 20,
      "outputs": []
    },
    {
      "cell_type": "code",
      "source": [
        ""
      ],
      "metadata": {
        "id": "ir1oBxR6qtpu"
      },
      "execution_count": null,
      "outputs": []
    },
    {
      "cell_type": "markdown",
      "source": [
        "#### Break"
      ],
      "metadata": {
        "id": "bob-0XKKqyLc"
      }
    },
    {
      "cell_type": "code",
      "source": [
        "for i in range(0,10):\n",
        "    if i < 5:\n",
        "        print(i)\n",
        "    else:\n",
        "        break"
      ],
      "metadata": {
        "colab": {
          "base_uri": "https://localhost:8080/"
        },
        "id": "QlamQxciqzJF",
        "outputId": "ca2a2355-ba32-4892-ee43-3f5ca989f9bb"
      },
      "execution_count": 21,
      "outputs": [
        {
          "output_type": "stream",
          "name": "stdout",
          "text": [
            "0\n",
            "1\n",
            "2\n",
            "3\n",
            "4\n"
          ]
        }
      ]
    },
    {
      "cell_type": "code",
      "source": [
        ""
      ],
      "metadata": {
        "id": "zFxgFbforAS2"
      },
      "execution_count": null,
      "outputs": []
    },
    {
      "cell_type": "markdown",
      "source": [
        "#### Pass"
      ],
      "metadata": {
        "id": "TDpbG0U0rELG"
      }
    },
    {
      "cell_type": "code",
      "source": [
        "def no_func():pass"
      ],
      "metadata": {
        "id": "geebQeN3rFP0"
      },
      "execution_count": 22,
      "outputs": []
    },
    {
      "cell_type": "code",
      "source": [
        "class Foo():pass"
      ],
      "metadata": {
        "id": "vOx-o5YZrH-0"
      },
      "execution_count": 23,
      "outputs": []
    },
    {
      "cell_type": "code",
      "source": [
        "f = Foo()\n",
        "f.id = 1\n",
        "f.color = \"blue\""
      ],
      "metadata": {
        "id": "28DYjFPHrLDD"
      },
      "execution_count": 24,
      "outputs": []
    },
    {
      "cell_type": "code",
      "source": [
        "f.__dict__"
      ],
      "metadata": {
        "colab": {
          "base_uri": "https://localhost:8080/"
        },
        "id": "T57ogQWorPUm",
        "outputId": "aa942a77-9009-46aa-bea8-a0881c19b397"
      },
      "execution_count": 25,
      "outputs": [
        {
          "output_type": "execute_result",
          "data": {
            "text/plain": [
              "{'id': 1, 'color': 'blue'}"
            ]
          },
          "metadata": {},
          "execution_count": 25
        }
      ]
    },
    {
      "cell_type": "code",
      "source": [
        ""
      ],
      "metadata": {
        "id": "nT1Hq8P_rQXv"
      },
      "execution_count": null,
      "outputs": []
    },
    {
      "cell_type": "markdown",
      "source": [
        "### Case"
      ],
      "metadata": {
        "id": "uwhXX6CprgiK"
      }
    },
    {
      "cell_type": "markdown",
      "source": [
        "https://docs.python.org/3/tutorial/controlflow.html#match-statements"
      ],
      "metadata": {
        "id": "nWKm884Trie8"
      }
    },
    {
      "cell_type": "code",
      "source": [
        ""
      ],
      "metadata": {
        "id": "OBps9JjVrhis"
      },
      "execution_count": null,
      "outputs": []
    }
  ]
}