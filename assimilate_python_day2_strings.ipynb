{
  "nbformat": 4,
  "nbformat_minor": 0,
  "metadata": {
    "colab": {
      "name": "assimilate-python-day2-strings.ipynb",
      "provenance": [],
      "authorship_tag": "ABX9TyM8h78FYfhfwavmI1Y810IM",
      "include_colab_link": true
    },
    "kernelspec": {
      "name": "python3",
      "display_name": "Python 3"
    },
    "language_info": {
      "name": "python"
    }
  },
  "cells": [
    {
      "cell_type": "markdown",
      "metadata": {
        "id": "view-in-github",
        "colab_type": "text"
      },
      "source": [
        "<a href=\"https://colab.research.google.com/github/noahgift/assimilate-python-from-zero/blob/main/assimilate_python_day2_strings.ipynb\" target=\"_parent\"><img src=\"https://colab.research.google.com/assets/colab-badge.svg\" alt=\"Open In Colab\"/></a>"
      ]
    },
    {
      "cell_type": "markdown",
      "source": [
        "## Python Strings"
      ],
      "metadata": {
        "id": "qjYoU3U1a8nX"
      }
    },
    {
      "cell_type": "markdown",
      "source": [
        "### F-Strings"
      ],
      "metadata": {
        "id": "qGPry7D1a_ig"
      }
    },
    {
      "cell_type": "code",
      "execution_count": 1,
      "metadata": {
        "id": "56BA3vK2a3bt"
      },
      "outputs": [],
      "source": [
        "apple = \"apple\"\n",
        "pear = \"pear\"\n",
        "strawberry = \"strawberry\""
      ]
    },
    {
      "cell_type": "code",
      "source": [
        "print(f\"These are fun to eat: {apple}, {pear}, {strawberry}\")"
      ],
      "metadata": {
        "colab": {
          "base_uri": "https://localhost:8080/"
        },
        "id": "YQQQW2W1bKkk",
        "outputId": "feb9ebbb-c2e1-4d57-c30f-34f73a7642b0"
      },
      "execution_count": 2,
      "outputs": [
        {
          "output_type": "stream",
          "name": "stdout",
          "text": [
            "These are fun to eat: apple, pear, strawberry\n"
          ]
        }
      ]
    },
    {
      "cell_type": "code",
      "source": [
        ""
      ],
      "metadata": {
        "id": "PD4sIV7LbS4G"
      },
      "execution_count": null,
      "outputs": []
    },
    {
      "cell_type": "markdown",
      "source": [
        "#### Scientific Calculations"
      ],
      "metadata": {
        "id": "Bf2Mmx93bVy3"
      }
    },
    {
      "cell_type": "code",
      "source": [
        "def calculate(x,y):\n",
        "    result = x + y\n",
        "    return result"
      ],
      "metadata": {
        "id": "7eGLBj_NbYW-"
      },
      "execution_count": 4,
      "outputs": []
    },
    {
      "cell_type": "code",
      "source": [
        "result = calculate(2,2)\n",
        "print(f\"The results of my calculation {result}\")"
      ],
      "metadata": {
        "colab": {
          "base_uri": "https://localhost:8080/"
        },
        "id": "YPvT28hDbc2-",
        "outputId": "f1ed2792-b3c4-401c-b1a3-0706394c1bee"
      },
      "execution_count": 5,
      "outputs": [
        {
          "output_type": "stream",
          "name": "stdout",
          "text": [
            "The results of my calculation 4\n"
          ]
        }
      ]
    },
    {
      "cell_type": "code",
      "source": [
        ""
      ],
      "metadata": {
        "id": "QayTctCyb99_"
      },
      "execution_count": null,
      "outputs": []
    },
    {
      "cell_type": "markdown",
      "source": [
        "### String .format()"
      ],
      "metadata": {
        "id": "SW4EANCZcWOP"
      }
    },
    {
      "cell_type": "code",
      "source": [
        "print('I love to a {} \"{}!\"'.format('eat', apple))"
      ],
      "metadata": {
        "colab": {
          "base_uri": "https://localhost:8080/"
        },
        "id": "4twvT1rbcZiZ",
        "outputId": "2635f938-3683-4fe1-b4bd-15f02188200b"
      },
      "execution_count": 7,
      "outputs": [
        {
          "output_type": "stream",
          "name": "stdout",
          "text": [
            "I love to a eat \"apple!\"\n"
          ]
        }
      ]
    },
    {
      "cell_type": "code",
      "source": [
        ""
      ],
      "metadata": {
        "id": "j6Xhsex4cg1Y"
      },
      "execution_count": null,
      "outputs": []
    },
    {
      "cell_type": "markdown",
      "source": [
        "### String Quoting"
      ],
      "metadata": {
        "id": "vzGGamBNctvm"
      }
    },
    {
      "cell_type": "code",
      "source": [
        "single = 'apple'"
      ],
      "metadata": {
        "id": "jIaXogJXcvld"
      },
      "execution_count": 8,
      "outputs": []
    },
    {
      "cell_type": "code",
      "source": [
        "double = \"apple\""
      ],
      "metadata": {
        "id": "0sKebOCqcyOo"
      },
      "execution_count": 9,
      "outputs": []
    },
    {
      "cell_type": "code",
      "source": [
        "triple = \"\"\"apple\"\"\""
      ],
      "metadata": {
        "id": "KIyFjCWFc0Np"
      },
      "execution_count": 11,
      "outputs": []
    },
    {
      "cell_type": "code",
      "source": [
        "print(f\"The styles of quoting: {single} {double} {triple}\")"
      ],
      "metadata": {
        "colab": {
          "base_uri": "https://localhost:8080/"
        },
        "id": "bGLdKc3Sc2An",
        "outputId": "efe24101-325d-4414-a8e3-558c548f23a9"
      },
      "execution_count": 12,
      "outputs": [
        {
          "output_type": "stream",
          "name": "stdout",
          "text": [
            "The styles of quoting: apple apple apple\n"
          ]
        }
      ]
    },
    {
      "cell_type": "code",
      "source": [
        "phrase = \"\"\"\n",
        "This is very, very long.\n",
        "I made it long so I could show....\n",
        "how to use triple quotes\n",
        "\"\"\""
      ],
      "metadata": {
        "id": "1kuePut4c9lA"
      },
      "execution_count": 13,
      "outputs": []
    },
    {
      "cell_type": "code",
      "source": [
        "print(phrase)"
      ],
      "metadata": {
        "colab": {
          "base_uri": "https://localhost:8080/"
        },
        "id": "KiZsE6LmdJUZ",
        "outputId": "27f2d853-306d-4f1c-ab7c-5d4dfbfa3f97"
      },
      "execution_count": 14,
      "outputs": [
        {
          "output_type": "stream",
          "name": "stdout",
          "text": [
            "\n",
            "This is very, very long.\n",
            "I made it long so I could show....\n",
            "how to use triple quotes\n",
            "\n"
          ]
        }
      ]
    },
    {
      "cell_type": "code",
      "source": [
        ""
      ],
      "metadata": {
        "id": "YLN5hoBadKvA"
      },
      "execution_count": null,
      "outputs": []
    },
    {
      "cell_type": "markdown",
      "source": [
        "### Fun String Methods"
      ],
      "metadata": {
        "id": "mDdixlPPdPI8"
      }
    },
    {
      "cell_type": "code",
      "source": [
        "type(phrase)"
      ],
      "metadata": {
        "colab": {
          "base_uri": "https://localhost:8080/"
        },
        "id": "sVESIttTdQ_g",
        "outputId": "81768331-a579-4919-c74e-c9d3ce49653e"
      },
      "execution_count": 15,
      "outputs": [
        {
          "output_type": "execute_result",
          "data": {
            "text/plain": [
              "str"
            ]
          },
          "metadata": {},
          "execution_count": 15
        }
      ]
    },
    {
      "cell_type": "code",
      "source": [
        "apple.capitalize()"
      ],
      "metadata": {
        "colab": {
          "base_uri": "https://localhost:8080/",
          "height": 35
        },
        "id": "ppUj-S-UdUcW",
        "outputId": "a6589738-972f-4344-9ffa-b4ea1fff8831"
      },
      "execution_count": 17,
      "outputs": [
        {
          "output_type": "execute_result",
          "data": {
            "text/plain": [
              "'Apple'"
            ],
            "application/vnd.google.colaboratory.intrinsic+json": {
              "type": "string"
            }
          },
          "metadata": {},
          "execution_count": 17
        }
      ]
    },
    {
      "cell_type": "code",
      "source": [
        "big_apple = \"BigApple\"\n",
        "big_apple.casefold()"
      ],
      "metadata": {
        "colab": {
          "base_uri": "https://localhost:8080/",
          "height": 35
        },
        "id": "s4v9nUuSdYso",
        "outputId": "15ac8dab-6a2c-41db-edf9-31d44cf65658"
      },
      "execution_count": 21,
      "outputs": [
        {
          "output_type": "execute_result",
          "data": {
            "text/plain": [
              "'bigapple'"
            ],
            "application/vnd.google.colaboratory.intrinsic+json": {
              "type": "string"
            }
          },
          "metadata": {},
          "execution_count": 21
        }
      ]
    },
    {
      "cell_type": "code",
      "source": [
        "apple.isalpha()"
      ],
      "metadata": {
        "colab": {
          "base_uri": "https://localhost:8080/"
        },
        "id": "TNNl0Fz4dg0Y",
        "outputId": "e1101b2d-53a7-407f-e515-08070a869707"
      },
      "execution_count": 27,
      "outputs": [
        {
          "output_type": "execute_result",
          "data": {
            "text/plain": [
              "True"
            ]
          },
          "metadata": {},
          "execution_count": 27
        }
      ]
    },
    {
      "cell_type": "code",
      "source": [
        "number = \"1a\""
      ],
      "metadata": {
        "id": "Zuwf84--du9W"
      },
      "execution_count": 30,
      "outputs": []
    },
    {
      "cell_type": "code",
      "source": [
        "number.isalpha()"
      ],
      "metadata": {
        "colab": {
          "base_uri": "https://localhost:8080/"
        },
        "id": "MxZn_tZLeBtJ",
        "outputId": "b7501b89-a90b-4824-c10b-3a817eb7ba7f"
      },
      "execution_count": 31,
      "outputs": [
        {
          "output_type": "execute_result",
          "data": {
            "text/plain": [
              "False"
            ]
          },
          "metadata": {},
          "execution_count": 31
        }
      ]
    },
    {
      "cell_type": "code",
      "source": [
        "apple.swapcase()"
      ],
      "metadata": {
        "colab": {
          "base_uri": "https://localhost:8080/",
          "height": 35
        },
        "id": "iz1qOcv3eDMR",
        "outputId": "9e66f73f-7cc5-4988-8847-f3314e586fd3"
      },
      "execution_count": 32,
      "outputs": [
        {
          "output_type": "execute_result",
          "data": {
            "text/plain": [
              "'APPLE'"
            ],
            "application/vnd.google.colaboratory.intrinsic+json": {
              "type": "string"
            }
          },
          "metadata": {},
          "execution_count": 32
        }
      ]
    },
    {
      "cell_type": "code",
      "source": [
        "new_apple = apple.swapcase()"
      ],
      "metadata": {
        "id": "aA8HjEq9eR7L"
      },
      "execution_count": 34,
      "outputs": []
    },
    {
      "cell_type": "code",
      "source": [
        "new_apple.swapcase()"
      ],
      "metadata": {
        "colab": {
          "base_uri": "https://localhost:8080/",
          "height": 35
        },
        "id": "vDY_DyI0eURp",
        "outputId": "b37d3a9f-e813-4a7c-8dfc-c9c08a22371b"
      },
      "execution_count": 36,
      "outputs": [
        {
          "output_type": "execute_result",
          "data": {
            "text/plain": [
              "'apple'"
            ],
            "application/vnd.google.colaboratory.intrinsic+json": {
              "type": "string"
            }
          },
          "metadata": {},
          "execution_count": 36
        }
      ]
    },
    {
      "cell_type": "code",
      "source": [
        ""
      ],
      "metadata": {
        "id": "Z8H3rkWKeZq4"
      },
      "execution_count": null,
      "outputs": []
    }
  ]
}